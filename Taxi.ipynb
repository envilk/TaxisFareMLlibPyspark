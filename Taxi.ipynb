{
 "cells": [
  {
   "cell_type": "code",
   "execution_count": 1,
   "metadata": {
    "scrolled": true
   },
   "outputs": [],
   "source": [
    "from pyspark import SparkContext\n",
    "from pyspark.sql import SparkSession \n",
    "\n",
    "from pyspark.ml.feature import VectorAssembler\n",
    "\n",
    "from pyspark.ml.regression import LinearRegression\n",
    "from pyspark.sql.types import FloatType\n",
    "import pandas as pd\n",
    "\n",
    "import time"
   ]
  },
  {
   "cell_type": "code",
   "execution_count": 2,
   "metadata": {},
   "outputs": [],
   "source": [
    "spark = SparkSession.builder.appName('taxis_fare').getOrCreate()"
   ]
  },
  {
   "cell_type": "code",
   "execution_count": 3,
   "metadata": {},
   "outputs": [],
   "source": [
    "# Load training data\n",
    "df = spark.read.format(\"csv\").option(\"header\", \"true\").load(\"data/train.csv\")"
   ]
  },
  {
   "cell_type": "code",
   "execution_count": 4,
   "metadata": {},
   "outputs": [],
   "source": [
    "lr = LinearRegression(maxIter=10, regParam=0.3, elasticNetParam=0.8)"
   ]
  },
  {
   "cell_type": "code",
   "execution_count": 5,
   "metadata": {
    "scrolled": true
   },
   "outputs": [
    {
     "data": {
      "text/plain": [
       "[('key', 'string'),\n",
       " ('fare_amount', 'string'),\n",
       " ('pickup_datetime', 'string'),\n",
       " ('pickup_longitude', 'string'),\n",
       " ('pickup_latitude', 'string'),\n",
       " ('dropoff_longitude', 'string'),\n",
       " ('dropoff_latitude', 'string'),\n",
       " ('passenger_count', 'string')]"
      ]
     },
     "execution_count": 5,
     "metadata": {},
     "output_type": "execute_result"
    }
   ],
   "source": [
    "df.dtypes"
   ]
  },
  {
   "cell_type": "code",
   "execution_count": 6,
   "metadata": {},
   "outputs": [],
   "source": [
    "df = df.select(df['fare_amount'].cast(\"float\").alias('fare_amount'),\n",
    "               df['pickup_longitude'].cast(\"float\").alias('pickup_longitude'),\n",
    "               df['pickup_latitude'].cast(\"float\").alias('pickup_latitude'),\n",
    "               df['dropoff_longitude'].cast(\"float\").alias('dropoff_longitude'),\n",
    "               df['dropoff_latitude'].cast(\"float\").alias('dropoff_latitude'),\n",
    "               df['passenger_count'].cast(\"float\").alias('passenger_count'),)\n"
   ]
  },
  {
   "cell_type": "code",
   "execution_count": 7,
   "metadata": {},
   "outputs": [],
   "source": [
    "df = df.selectExpr(\"fare_amount as label\",'pickup_longitude','pickup_latitude',\n",
    "                  'dropoff_longitude','dropoff_latitude','passenger_count')"
   ]
  },
  {
   "cell_type": "code",
   "execution_count": 8,
   "metadata": {},
   "outputs": [
    {
     "name": "stdout",
     "output_type": "stream",
     "text": [
      "+-----+----------------+---------------+-----------------+----------------+---------------+\n",
      "|label|pickup_longitude|pickup_latitude|dropoff_longitude|dropoff_latitude|passenger_count|\n",
      "+-----+----------------+---------------+-----------------+----------------+---------------+\n",
      "|  4.5|      -73.844315|      40.721317|        -73.84161|       40.712276|            1.0|\n",
      "| 16.9|      -74.016045|      40.711304|        -73.97927|       40.782005|            1.0|\n",
      "|  5.7|      -73.982735|       40.76127|        -73.99124|        40.75056|            2.0|\n",
      "|  7.7|       -73.98713|      40.733143|        -73.99157|        40.75809|            1.0|\n",
      "|  5.3|      -73.968094|       40.76801|        -73.95666|       40.783764|            1.0|\n",
      "| 12.1|       -74.00096|       40.73163|        -73.97289|       40.758232|            1.0|\n",
      "|  7.5|          -73.98|      40.751663|         -73.9738|       40.764843|            1.0|\n",
      "| 16.5|        -73.9513|       40.77414|         -73.9901|        40.75105|            1.0|\n",
      "|  9.0|       -74.00646|       40.72671|        -73.99308|        40.73163|            1.0|\n",
      "|  8.9|       -73.98066|       40.73387|        -73.99154|       40.758137|            2.0|\n",
      "|  5.3|       -73.99634|       40.73714|        -73.98072|        40.73356|            1.0|\n",
      "|  5.5|             0.0|            0.0|              0.0|             0.0|            3.0|\n",
      "|  4.1|        -73.9916|      40.744713|        -73.98308|       40.744682|            2.0|\n",
      "|  7.0|       -74.00536|      40.728867|        -74.00891|       40.710907|            1.0|\n",
      "|  7.7|       -74.00182|       40.73755|        -73.99806|        40.72279|            2.0|\n",
      "|  5.0|             0.0|            0.0|              0.0|             0.0|            1.0|\n",
      "| 12.5|       -73.98643|      40.760464|        -73.98899|       40.737076|            1.0|\n",
      "|  5.3|       -73.98106|       40.73769|        -73.99418|       40.728413|            1.0|\n",
      "|  5.3|      -73.969505|      40.784843|        -73.95873|       40.783356|            1.0|\n",
      "|  4.0|       -73.97981|      40.751904|        -73.97945|        40.75548|            1.0|\n",
      "+-----+----------------+---------------+-----------------+----------------+---------------+\n",
      "only showing top 20 rows\n",
      "\n"
     ]
    }
   ],
   "source": [
    "df.show()"
   ]
  },
  {
   "cell_type": "code",
   "execution_count": 9,
   "metadata": {},
   "outputs": [
    {
     "data": {
      "text/plain": [
       "55423856"
      ]
     },
     "execution_count": 9,
     "metadata": {},
     "output_type": "execute_result"
    }
   ],
   "source": [
    "#colum features\n",
    "vecAssembler = VectorAssembler(inputCols=[\"pickup_longitude\", \"pickup_latitude\",\n",
    "                                          \"dropoff_longitude\", \"dropoff_latitude\",\n",
    "                                          \"passenger_count\"], outputCol=\"features\")\n",
    "new_df = vecAssembler.transform(df)\n",
    "new_df.count()"
   ]
  },
  {
   "cell_type": "code",
   "execution_count": 10,
   "metadata": {},
   "outputs": [
    {
     "name": "stdout",
     "output_type": "stream",
     "text": [
      "+-----+----------------+---------------+-----------------+----------------+---------------+--------------------+\n",
      "|label|pickup_longitude|pickup_latitude|dropoff_longitude|dropoff_latitude|passenger_count|            features|\n",
      "+-----+----------------+---------------+-----------------+----------------+---------------+--------------------+\n",
      "|  4.5|      -73.844315|      40.721317|        -73.84161|       40.712276|            1.0|[-73.844314575195...|\n",
      "| 16.9|      -74.016045|      40.711304|        -73.97927|       40.782005|            1.0|[-74.016044616699...|\n",
      "|  5.7|      -73.982735|       40.76127|        -73.99124|        40.75056|            2.0|[-73.982734680175...|\n",
      "|  7.7|       -73.98713|      40.733143|        -73.99157|        40.75809|            1.0|[-73.987129211425...|\n",
      "|  5.3|      -73.968094|       40.76801|        -73.95666|       40.783764|            1.0|[-73.968093872070...|\n",
      "| 12.1|       -74.00096|       40.73163|        -73.97289|       40.758232|            1.0|[-74.000961303710...|\n",
      "|  7.5|          -73.98|      40.751663|         -73.9738|       40.764843|            1.0|[-73.980003356933...|\n",
      "| 16.5|        -73.9513|       40.77414|         -73.9901|        40.75105|            1.0|[-73.951301574707...|\n",
      "|  9.0|       -74.00646|       40.72671|        -73.99308|        40.73163|            1.0|[-74.006462097167...|\n",
      "|  8.9|       -73.98066|       40.73387|        -73.99154|       40.758137|            2.0|[-73.980659484863...|\n",
      "|  5.3|       -73.99634|       40.73714|        -73.98072|        40.73356|            1.0|[-73.996337890625...|\n",
      "|  5.5|             0.0|            0.0|              0.0|             0.0|            3.0|       (5,[4],[3.0])|\n",
      "|  4.1|        -73.9916|      40.744713|        -73.98308|       40.744682|            2.0|[-73.991600036621...|\n",
      "|  7.0|       -74.00536|      40.728867|        -74.00891|       40.710907|            1.0|[-74.005363464355...|\n",
      "|  7.7|       -74.00182|       40.73755|        -73.99806|        40.72279|            2.0|[-74.001823425292...|\n",
      "|  5.0|             0.0|            0.0|              0.0|             0.0|            1.0|       (5,[4],[1.0])|\n",
      "| 12.5|       -73.98643|      40.760464|        -73.98899|       40.737076|            1.0|[-73.986427307128...|\n",
      "|  5.3|       -73.98106|       40.73769|        -73.99418|       40.728413|            1.0|[-73.981056213378...|\n",
      "|  5.3|      -73.969505|      40.784843|        -73.95873|       40.783356|            1.0|[-73.969505310058...|\n",
      "|  4.0|       -73.97981|      40.751904|        -73.97945|        40.75548|            1.0|[-73.979812622070...|\n",
      "+-----+----------------+---------------+-----------------+----------------+---------------+--------------------+\n",
      "only showing top 20 rows\n",
      "\n"
     ]
    }
   ],
   "source": [
    "#Delete null rows\n",
    "new_df = vecAssembler.setHandleInvalid(\"skip\").transform(df)\n",
    "new_df.show()"
   ]
  },
  {
   "cell_type": "code",
   "execution_count": 13,
   "metadata": {},
   "outputs": [
    {
     "name": "stdout",
     "output_type": "stream",
     "text": [
      "0.011986910000000073\n"
     ]
    }
   ],
   "source": [
    "start = time.process_time()\n",
    "new_df.count()\n",
    "print(time.process_time() - start)"
   ]
  },
  {
   "cell_type": "code",
   "execution_count": 14,
   "metadata": {},
   "outputs": [
    {
     "name": "stdout",
     "output_type": "stream",
     "text": [
      "0.10193396799999999\n"
     ]
    }
   ],
   "source": [
    "# Fit the model\n",
    "start = time.process_time()\n",
    "lrModel = lr.fit(new_df.select('label','features'))\n",
    "print(time.process_time() - start)"
   ]
  },
  {
   "cell_type": "code",
   "execution_count": 15,
   "metadata": {},
   "outputs": [
    {
     "name": "stdout",
     "output_type": "stream",
     "text": [
      "Coefficients: [0.0,0.0,0.0,0.0,0.0]\n",
      "Intercept: 11.345004953120545\n"
     ]
    }
   ],
   "source": [
    "# Print the coefficients and intercept for linear regression\n",
    "print(\"Coefficients: %s\" % str(lrModel.coefficients))\n",
    "print(\"Intercept: %s\" % str(lrModel.intercept))"
   ]
  },
  {
   "cell_type": "code",
   "execution_count": 16,
   "metadata": {},
   "outputs": [
    {
     "name": "stdout",
     "output_type": "stream",
     "text": [
      "numIterations: 1\n",
      "objectiveHistory: [0.5]\n",
      "+-------------------+\n",
      "|          residuals|\n",
      "+-------------------+\n",
      "|-6.8450049531205455|\n",
      "|  5.554994665409728|\n",
      "| -5.645005143855409|\n",
      "|-3.6450051438554087|\n",
      "| -6.045004762385682|\n",
      "| 0.7549954283491811|\n",
      "|-3.8450049531205455|\n",
      "| 5.1549950468794545|\n",
      "|-2.3450049531205455|\n",
      "| -2.445005334590272|\n",
      "| -6.045004762385682|\n",
      "|-5.8450049531205455|\n",
      "| -7.245005048487977|\n",
      "|-4.3450049531205455|\n",
      "|-3.6450051438554087|\n",
      "|-6.3450049531205455|\n",
      "| 1.1549950468794545|\n",
      "| -6.045004762385682|\n",
      "| -6.045004762385682|\n",
      "|-7.3450049531205455|\n",
      "+-------------------+\n",
      "only showing top 20 rows\n",
      "\n",
      "RMSE: 20.710867\n"
     ]
    }
   ],
   "source": [
    "#Summarize the model over the training set and print out some metrics\n",
    "trainingSummary = lrModel.summary\n",
    "print(\"numIterations: %d\" % trainingSummary.totalIterations)\n",
    "print(\"objectiveHistory: %s\" % str(trainingSummary.objectiveHistory))\n",
    "trainingSummary.residuals.show()\n",
    "print(\"RMSE: %f\" % trainingSummary.rootMeanSquaredError)"
   ]
  },
  {
   "cell_type": "code",
   "execution_count": null,
   "metadata": {},
   "outputs": [],
   "source": [
    "spark.stop()"
   ]
  }
 ],
 "metadata": {
  "kernelspec": {
   "display_name": "Python 3",
   "language": "python",
   "name": "python3"
  },
  "language_info": {
   "codemirror_mode": {
    "name": "ipython",
    "version": 3
   },
   "file_extension": ".py",
   "mimetype": "text/x-python",
   "name": "python",
   "nbconvert_exporter": "python",
   "pygments_lexer": "ipython3",
   "version": "3.7.3"
  }
 },
 "nbformat": 4,
 "nbformat_minor": 2
}
